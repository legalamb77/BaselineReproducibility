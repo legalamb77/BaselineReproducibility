{
 "cells": [
  {
   "cell_type": "code",
   "execution_count": null,
   "metadata": {
    "collapsed": true
   },
   "outputs": [],
   "source": [
    "import numpy as np\n",
    "\n",
    "from sklearn import metrics\n",
    "from sklearn import svm\n",
    "from sklearn.feature_extraction.text import TfidfVectorizer\n",
    "from sklearn.feature_extraction.text import CountVectorizer"
   ]
  },
  {
   "cell_type": "code",
   "execution_count": null,
   "metadata": {
    "collapsed": true
   },
   "outputs": [],
   "source": [
    "# load processed datasets\n",
    "train_data = np.genfromtxt('./AGNews_data/proc_train.txt', delimiter=',', dtype=str)\n",
    "test_data = np.genfromtxt('./AGNews_data/proc_test.txt', delimiter=',', dtype=str)"
   ]
  },
  {
   "cell_type": "code",
   "execution_count": null,
   "metadata": {
    "collapsed": true
   },
   "outputs": [],
   "source": [
    "# shuffle training data\n",
    "np.random.shuffle(train_data)"
   ]
  },
  {
   "cell_type": "code",
   "execution_count": null,
   "metadata": {
    "collapsed": true
   },
   "outputs": [],
   "source": [
    "# separate attributes from labels\n",
    "train_x = train_data[:,0]\n",
    "train_y = train_data[:,1].astype(int)\n",
    "\n",
    "test_x = test_data[:,0]\n",
    "test_y = test_data[:,1].astype(int)"
   ]
  },
  {
   "cell_type": "code",
   "execution_count": null,
   "metadata": {
    "collapsed": true
   },
   "outputs": [],
   "source": [
    "# bag-of-words representation\n",
    "vectorizer = CountVectorizer(analyzer=\"word\", stop_words='english', ngram_range=(1, 2))\n",
    "train_vectors = vectorizer.fit_transform(train_x)\n",
    "test_vectors = vectorizer.transform(test_x)"
   ]
  },
  {
   "cell_type": "code",
   "execution_count": null,
   "metadata": {
    "collapsed": true
   },
   "outputs": [],
   "source": [
    "# SVM\n",
    "best_model = 'None'\n",
    "best_c = 0\n",
    "best_kernel = 'None'\n",
    "best_acc = 0\n",
    "\n",
    "c_list = [0.1, 1, 10]\n",
    "kernels = [\"linear\", \"poly\", \"rbf\"]\n",
    "\n",
    "for c in c_list:\n",
    "    for k in kernels:\n",
    "        svc_clf = svm.SVC(C=c, kernel=k)\n",
    "        svc_clf.fit(train_vectors, train_y)\n",
    "        pred_y = svc_clf.predict(test_vectors.toarray())\n",
    "        acc = metric.accuracy_score(test_y, pred_y)\n",
    "        \n",
    "        if acc > best_acc:\n",
    "            best_model = svc_clf\n",
    "            best_c = c\n",
    "            best_kernel = k\n",
    "            best_acc = acc\n",
    "            \n",
    "        print(\"(c={}, kernel={}): accuracy={}\".format(c, k, acc))\n",
    "\n",
    "print(\"Best model: (c={}, kernel={}): accuracy={}\".format(best_c, best_kernel, best_acc))"
   ]
  },
  {
   "cell_type": "code",
   "execution_count": null,
   "metadata": {
    "collapsed": true
   },
   "outputs": [],
   "source": []
  }
 ],
 "metadata": {
  "kernelspec": {
   "display_name": "Python 3",
   "language": "python",
   "name": "python3"
  },
  "language_info": {
   "codemirror_mode": {
    "name": "ipython",
    "version": 3
   },
   "file_extension": ".py",
   "mimetype": "text/x-python",
   "name": "python",
   "nbconvert_exporter": "python",
   "pygments_lexer": "ipython3",
   "version": "3.6.3"
  }
 },
 "nbformat": 4,
 "nbformat_minor": 2
}
