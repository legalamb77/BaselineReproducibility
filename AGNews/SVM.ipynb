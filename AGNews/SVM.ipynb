{
 "cells": [
  {
   "cell_type": "code",
   "execution_count": 1,
   "metadata": {
    "collapsed": true
   },
   "outputs": [],
   "source": [
    "import numpy as np\n",
    "\n",
    "from sklearn import metrics\n",
    "from sklearn import svm\n",
    "from sklearn.feature_extraction.text import TfidfVectorizer\n",
    "from sklearn.feature_extraction.text import CountVectorizer"
   ]
  },
  {
   "cell_type": "code",
   "execution_count": 2,
   "metadata": {
    "collapsed": true
   },
   "outputs": [],
   "source": [
    "# load processed datasets\n",
    "train_data = np.genfromtxt('./AGNews_data/proc_train.txt', delimiter=',', dtype=str)\n",
    "test_data = np.genfromtxt('./AGNews_data/proc_test.txt', delimiter=',', dtype=str)"
   ]
  },
  {
   "cell_type": "code",
   "execution_count": 3,
   "metadata": {
    "collapsed": true
   },
   "outputs": [],
   "source": [
    "# shuffle training data\n",
    "np.random.shuffle(train_data)"
   ]
  },
  {
   "cell_type": "code",
   "execution_count": 4,
   "metadata": {
    "collapsed": true
   },
   "outputs": [],
   "source": [
    "# separate attributes from labels\n",
    "train_x = train_data[:,0]\n",
    "train_y = train_data[:,1].astype(int)\n",
    "\n",
    "test_x = test_data[:,0]\n",
    "test_y = test_data[:,1].astype(int)"
   ]
  },
  {
   "cell_type": "code",
   "execution_count": 5,
   "metadata": {
    "collapsed": true
   },
   "outputs": [],
   "source": [
    "# bag-of-words representation\n",
    "#vectorizer = CountVectorizer(analyzer='word', stop_words='english')#, ngram_range=(1, 2))\n",
    "vectorizer = TfidfVectorizer(analyzer='word', stop_words='english')\n",
    "train_vectors = vectorizer.fit_transform(train_x)\n",
    "test_vectors = vectorizer.transform(test_x)"
   ]
  },
  {
   "cell_type": "code",
   "execution_count": 9,
   "metadata": {},
   "outputs": [
    {
     "name": "stdout",
     "output_type": "stream",
     "text": [
      "(c=0.01): accuracy=0.8990789473684211\n",
      "(c=0.02): accuracy=0.9053947368421053\n",
      "(c=0.03): accuracy=0.9093421052631578\n",
      "(c=0.04): accuracy=0.9114473684210527\n",
      "(c=0.05): accuracy=0.9139473684210526\n",
      "(c=0.060000000000000005): accuracy=0.9153947368421053\n",
      "(c=0.06999999999999999): accuracy=0.9178947368421052\n",
      "(c=0.08): accuracy=0.9184210526315789\n",
      "(c=0.09): accuracy=0.9193421052631578\n",
      "(c=0.09999999999999999): accuracy=0.92\n",
      "(c=0.11): accuracy=0.9202631578947369\n",
      "(c=0.12): accuracy=0.9207894736842105\n",
      "(c=0.13): accuracy=0.9206578947368421\n",
      "(c=0.14): accuracy=0.9210526315789473\n",
      "(c=0.15000000000000002): accuracy=0.9219736842105263\n",
      "(c=0.16): accuracy=0.9223684210526316\n",
      "(c=0.17): accuracy=0.9228947368421052\n",
      "(c=0.18000000000000002): accuracy=0.9223684210526316\n",
      "(c=0.19): accuracy=0.9221052631578948\n",
      "(c=0.2): accuracy=0.9221052631578948\n",
      "(c=0.21000000000000002): accuracy=0.9222368421052631\n",
      "(c=0.22): accuracy=0.9221052631578948\n",
      "(c=0.23): accuracy=0.9223684210526316\n",
      "(c=0.24000000000000002): accuracy=0.9225\n",
      "(c=0.25): accuracy=0.9221052631578948\n",
      "(c=0.26): accuracy=0.9221052631578948\n",
      "(c=0.27): accuracy=0.9219736842105263\n",
      "(c=0.28): accuracy=0.9223684210526316\n",
      "(c=0.29000000000000004): accuracy=0.9222368421052631\n",
      "(c=0.3): accuracy=0.9221052631578948\n",
      "(c=0.31): accuracy=0.9222368421052631\n",
      "(c=0.32): accuracy=0.9223684210526316\n",
      "(c=0.33): accuracy=0.9225\n",
      "(c=0.34): accuracy=0.9221052631578948\n",
      "(c=0.35000000000000003): accuracy=0.9222368421052631\n",
      "(c=0.36000000000000004): accuracy=0.9225\n",
      "(c=0.37): accuracy=0.9225\n",
      "(c=0.38): accuracy=0.9226315789473685\n",
      "(c=0.39): accuracy=0.9226315789473685\n",
      "(c=0.4): accuracy=0.9226315789473685\n",
      "(c=0.41000000000000003): accuracy=0.9221052631578948\n",
      "(c=0.42000000000000004): accuracy=0.9219736842105263\n",
      "(c=0.43): accuracy=0.921578947368421\n",
      "(c=0.44): accuracy=0.9214473684210527\n",
      "(c=0.45): accuracy=0.9214473684210527\n",
      "(c=0.46): accuracy=0.9211842105263158\n",
      "(c=0.47000000000000003): accuracy=0.9211842105263158\n",
      "(c=0.48000000000000004): accuracy=0.9210526315789473\n",
      "(c=0.49): accuracy=0.9210526315789473\n",
      "(c=0.5): accuracy=0.9210526315789473\n",
      "(c=0.51): accuracy=0.9207894736842105\n",
      "(c=0.52): accuracy=0.9207894736842105\n",
      "(c=0.53): accuracy=0.9205263157894736\n",
      "(c=0.54): accuracy=0.9202631578947369\n",
      "(c=0.55): accuracy=0.9203947368421053\n",
      "(c=0.56): accuracy=0.9203947368421053\n",
      "(c=0.5700000000000001): accuracy=0.9205263157894736\n",
      "(c=0.5800000000000001): accuracy=0.9205263157894736\n",
      "(c=0.59): accuracy=0.9206578947368421\n",
      "(c=0.6): accuracy=0.9202631578947369\n",
      "(c=0.61): accuracy=0.9201315789473684\n",
      "(c=0.62): accuracy=0.9201315789473684\n",
      "(c=0.63): accuracy=0.9201315789473684\n",
      "(c=0.64): accuracy=0.9203947368421053\n",
      "(c=0.65): accuracy=0.9201315789473684\n",
      "(c=0.66): accuracy=0.92\n",
      "(c=0.67): accuracy=0.9198684210526316\n",
      "(c=0.68): accuracy=0.9198684210526316\n",
      "(c=0.6900000000000001): accuracy=0.9198684210526316\n",
      "(c=0.7000000000000001): accuracy=0.9197368421052632\n",
      "(c=0.7100000000000001): accuracy=0.9196052631578947\n",
      "(c=0.72): accuracy=0.9196052631578947\n",
      "(c=0.73): accuracy=0.9196052631578947\n",
      "(c=0.74): accuracy=0.9194736842105263\n",
      "(c=0.75): accuracy=0.9194736842105263\n",
      "(c=0.76): accuracy=0.9192105263157895\n",
      "(c=0.77): accuracy=0.9192105263157895\n",
      "(c=0.78): accuracy=0.9189473684210526\n",
      "(c=0.79): accuracy=0.9189473684210526\n",
      "(c=0.8): accuracy=0.9186842105263158\n",
      "(c=0.81): accuracy=0.9186842105263158\n",
      "(c=0.8200000000000001): accuracy=0.9185526315789474\n",
      "(c=0.8300000000000001): accuracy=0.9185526315789474\n",
      "(c=0.8400000000000001): accuracy=0.9181578947368421\n",
      "(c=0.85): accuracy=0.9181578947368421\n",
      "(c=0.86): accuracy=0.9177631578947368\n",
      "(c=0.87): accuracy=0.9177631578947368\n",
      "(c=0.88): accuracy=0.9177631578947368\n",
      "(c=0.89): accuracy=0.9177631578947368\n",
      "(c=0.9): accuracy=0.9176315789473685\n",
      "(c=0.91): accuracy=0.9175\n",
      "(c=0.92): accuracy=0.9171052631578948\n",
      "(c=0.93): accuracy=0.9175\n",
      "(c=0.9400000000000001): accuracy=0.9175\n",
      "(c=0.9500000000000001): accuracy=0.9175\n",
      "(c=0.9600000000000001): accuracy=0.9176315789473685\n",
      "(c=0.97): accuracy=0.9176315789473685\n",
      "(c=0.98): accuracy=0.9177631578947368\n",
      "(c=0.99): accuracy=0.9178947368421052\n",
      "(c=1.0): accuracy=0.9180263157894737\n",
      "Best model: (c=0.17): accuracy=0.9228947368421052\n"
     ]
    }
   ],
   "source": [
    "# SVM\n",
    "best_model = 'None'\n",
    "best_c = 0\n",
    "best_acc = 0\n",
    "\n",
    "c_list = np.linspace(0.01, 1, 100)\n",
    "\n",
    "for c in c_list:\n",
    "    svc_clf = svm.LinearSVC(C=c)\n",
    "    svc_clf.fit(train_vectors, train_y)\n",
    "    pred_y = svc_clf.predict(test_vectors.toarray())\n",
    "    acc = metrics.accuracy_score(test_y, pred_y)\n",
    "\n",
    "    if acc > best_acc:\n",
    "        best_model = svc_clf\n",
    "        best_c = c\n",
    "        best_acc = acc\n",
    "\n",
    "    print(\"(c={}): accuracy={}\".format(c, acc))\n",
    "\n",
    "print(\"Best model: (c={}): accuracy={}\".format(best_c, best_acc))"
   ]
  },
  {
   "cell_type": "code",
   "execution_count": null,
   "metadata": {
    "collapsed": true
   },
   "outputs": [],
   "source": []
  }
 ],
 "metadata": {
  "kernelspec": {
   "display_name": "Python 3",
   "language": "python",
   "name": "python3"
  },
  "language_info": {
   "codemirror_mode": {
    "name": "ipython",
    "version": 3
   },
   "file_extension": ".py",
   "mimetype": "text/x-python",
   "name": "python",
   "nbconvert_exporter": "python",
   "pygments_lexer": "ipython3",
   "version": "3.6.3"
  }
 },
 "nbformat": 4,
 "nbformat_minor": 2
}
