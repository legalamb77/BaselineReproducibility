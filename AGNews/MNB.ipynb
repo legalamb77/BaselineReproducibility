{
 "cells": [
  {
   "cell_type": "code",
   "execution_count": null,
   "metadata": {
    "collapsed": true
   },
   "outputs": [],
   "source": [
    "import numpy as np\n",
    "\n",
    "from sklearn import metrics\n",
    "from sklearn.naive_bayes import MultinomialNB\n",
    "from sklearn.feature_extraction.text import TfidfVectorizer\n",
    "from sklearn.feature_extraction.text import CountVectorizer"
   ]
  },
  {
   "cell_type": "code",
   "execution_count": null,
   "metadata": {
    "collapsed": true
   },
   "outputs": [],
   "source": [
    "# load processed datasets\n",
    "train_data = np.genfromtxt('./AGNews_data/proc_train.txt', delimiter=',', dtype=str)\n",
    "test_data = np.genfromtxt('./AGNews_data/proc_test.txt', delimiter=',', dtype=str)"
   ]
  },
  {
   "cell_type": "code",
   "execution_count": null,
   "metadata": {
    "collapsed": true
   },
   "outputs": [],
   "source": [
    "# shuffle training data\n",
    "np.random.shuffle(train_data)"
   ]
  },
  {
   "cell_type": "code",
   "execution_count": null,
   "metadata": {
    "collapsed": true
   },
   "outputs": [],
   "source": [
    "# separate attributes from labels\n",
    "train_x = train_data[:,0]\n",
    "train_y = train_data[:,1].astype(int)\n",
    "\n",
    "test_x = test_data[:,0]\n",
    "test_y = test_data[:,1].astype(int)"
   ]
  },
  {
   "cell_type": "code",
   "execution_count": null,
   "metadata": {
    "collapsed": true
   },
   "outputs": [],
   "source": [
    "# bag-of-words representation\n",
    "vectorizer = CountVectorizer(analyzer=\"word\", stop_words='english', ngram_range=(1, 2))\n",
    "train_vectors = vectorizer.fit_transform(train_x)\n",
    "test_vectors = vectorizer.transform(test_x)"
   ]
  },
  {
   "cell_type": "code",
   "execution_count": null,
   "metadata": {
    "collapsed": true
   },
   "outputs": [],
   "source": [
    "# SVM\n",
    "best_model = 'None'\n",
    "best_a = 0\n",
    "best_acc = 0\n",
    "\n",
    "# alpha_list = np.linspace()\n",
    "alpha_list = [0.0001, 0.001, 0.01, 1]\n",
    "\n",
    "for a in alpha_list:\n",
    "    mnb = MultinomialNB(alpha=a)\n",
    "    mnb.fit(train_vectors, train_y)\n",
    "    pred_y = mnb.predict(test_vectors.toarray())\n",
    "    acc = metrics.accuracy_score(test_y, pred_y)\n",
    "    \n",
    "    if acc > best_acc:\n",
    "        best_model = svc_clf\n",
    "        best_a = a\n",
    "        best_acc = acc\n",
    "    \n",
    "    print(\"(alpha={}): accuracy={}\".format(a, acc))\n",
    "\n",
    "print(\"Best model: (alpha={}): accuracy={}\".format(best_a, best_acc))"
   ]
  },
  {
   "cell_type": "code",
   "execution_count": null,
   "metadata": {
    "collapsed": true
   },
   "outputs": [],
   "source": []
  }
 ],
 "metadata": {
  "kernelspec": {
   "display_name": "Python 3",
   "language": "python",
   "name": "python3"
  },
  "language_info": {
   "codemirror_mode": {
    "name": "ipython",
    "version": 3
   },
   "file_extension": ".py",
   "mimetype": "text/x-python",
   "name": "python",
   "nbconvert_exporter": "python",
   "pygments_lexer": "ipython3",
   "version": "3.6.3"
  }
 },
 "nbformat": 4,
 "nbformat_minor": 2
}
